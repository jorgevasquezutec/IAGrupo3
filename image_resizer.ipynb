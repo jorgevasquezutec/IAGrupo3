{
 "cells": [
  {
   "cell_type": "code",
   "execution_count": 7,
   "metadata": {},
   "outputs": [],
   "source": [
    "import numpy as np\n",
    "from PIL import Image\n",
    "import cv2\n",
    "import os"
   ]
  },
  {
   "cell_type": "code",
   "execution_count": 13,
   "metadata": {},
   "outputs": [],
   "source": [
    "class ImageResizer:\n",
    "    def __init__(self, images_src_path, resized_images_destination_path):\n",
    "        self.images_src_path = images_src_path\n",
    "        self.resized_images_destination_path = resized_images_destination_path\n",
    "        self.largest_height, self.largest_width = self.find_largest_width_and_height()\n",
    "\n",
    "    def find_largest_width_and_height(self):\n",
    "        largest_height = largest_width = 0\n",
    "        for image_path in os.listdir(self.images_src_path):\n",
    "            img = cv2.imread(self.images_src_path + image_path)\n",
    "            height, width, _ = img.shape\n",
    "            largest_height = max(largest_height, height)\n",
    "            largest_width = max(largest_width, width)\n",
    "        return largest_height, largest_width\n",
    "\n",
    "    def resize_and_save_new_images(self):\n",
    "        for image_path in os.listdir(self.images_src_path):\n",
    "            image = Image.open(self.images_src_path + image_path)\n",
    "            image.resize((160, 90)).save(self.resized_images_destination_path + image_path)\n",
    "    \n",
    "    def fill_and_save_new_images(self):\n",
    "        for image_path in os.listdir(self.images_src_path):\n",
    "            original_image = cv2.imread(self.images_src_path + image_path)\n",
    "            original_image_height, original_image_width, channels = original_image.shape\n",
    "            new_image_height = self.largest_height\n",
    "            new_image_width = self.largest_width\n",
    "            fill_color = (255, 255, 255)\n",
    "\n",
    "            resized_img = np.full((new_image_height, new_image_width, channels), fill_color, dtype=np.uint8)\n",
    "\n",
    "            y_center = (new_image_height - original_image_height) // 2\n",
    "            x_center = (new_image_width - original_image_width) // 2\n",
    "\n",
    "            resized_img[y_center : y_center + original_image_height, x_center : x_center + original_image_width] = original_image\n",
    "\n",
    "            folder = image_path[2]\n",
    "            if folder == \"0\":\n",
    "                folder = \"10\"\n",
    "            \n",
    "            Image.fromarray(resized_img).save(f\"{self.resized_images_destination_path}{folder}/{image_path}\")\n",
    "\n",
    "generator = ImageResizer(images_src_path=\"images/\", resized_images_destination_path=\"resized_images/\")\n",
    "generator.resize_and_save_new_images()"
   ]
  }
 ],
 "metadata": {
  "interpreter": {
   "hash": "40d3a090f54c6569ab1632332b64b2c03c39dcf918b08424e98f38b5ae0af88f"
  },
  "kernelspec": {
   "display_name": "Python 3.9.7 ('base')",
   "language": "python",
   "name": "python3"
  },
  "language_info": {
   "codemirror_mode": {
    "name": "ipython",
    "version": 3
   },
   "file_extension": ".py",
   "mimetype": "text/x-python",
   "name": "python",
   "nbconvert_exporter": "python",
   "pygments_lexer": "ipython3",
   "version": "3.9.7"
  },
  "orig_nbformat": 4
 },
 "nbformat": 4,
 "nbformat_minor": 2
}
