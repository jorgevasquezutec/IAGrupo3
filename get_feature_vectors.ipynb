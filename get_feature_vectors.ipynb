{
 "cells": [
  {
   "cell_type": "code",
   "execution_count": 2,
   "metadata": {},
   "outputs": [],
   "source": [
    "import os\n",
    "import pywt\n",
    "from PIL import Image\n",
    "import numpy as np"
   ]
  },
  {
   "cell_type": "code",
   "execution_count": 11,
   "metadata": {},
   "outputs": [],
   "source": [
    "class FeatureVectorGenerator:\n",
    "    def __init__(self, images_src_path, feature_vector_destination_path, iterations):\n",
    "        self.images_src_path = images_src_path\n",
    "        self.feature_vector_destination_path = feature_vector_destination_path\n",
    "        self.iterations = iterations\n",
    "\n",
    "    def get_vector_from_image(self, image):\n",
    "        \"\"\"\n",
    "        get_vector_from_image obtiene el vector característico de la imagen image\n",
    "        :param image: Imagen en formato vector.\n",
    "        :param iterations: Entero que indica la cantidad de veces que se aplica el wavelet a la imagen.\n",
    "        :return LL: Vector característico sin la compresión a 1D.\n",
    "        :return LL.flatten(): Vector característico en 1D.\n",
    "        \"\"\"\n",
    "        LL, (LH, HL, HH) = pywt.dwt2(image, 'haar')\n",
    "        for _ in range(self.iterations - 1):\n",
    "            LL, (LH, HL, HH) = pywt.dwt2(LL, 'haar')\n",
    "        return LL.flatten()\n",
    "\n",
    "    def generate(self):\n",
    "        for image_path in os.listdir(self.images_src_path):\n",
    "            image = Image.open(self.images_src_path + image_path)\n",
    "            fv = self.get_vector_from_image(image)\n",
    "            fv = self.normalization(fv)\n",
    "            folder = image_path[2]\n",
    "            if folder == \"0\":\n",
    "                folder = \"10\"\n",
    "            label = \"\"\n",
    "            for i in range(10):\n",
    "                label += \"1\" if i == int(folder) - 1 else \"0\"\n",
    "            f = open(self.feature_vector_destination_path + image_path[:-4] + \".txt\", \"w\")\n",
    "            f.write(label + \"\\n\")\n",
    "            for index, feature in enumerate(fv):\n",
    "                f.write(str(feature))\n",
    "                if index != len(fv) - 1:\n",
    "                    f.write(\"\\n\")\n",
    "\n",
    "    def normalization(self, fv):\n",
    "        min_value = np.min(fv)\n",
    "        max_value = np.max(fv)\n",
    "        normalized_data = [(feature - min_value) / (max_value - min_value) for feature in fv]\n",
    "        return normalized_data\n",
    "\n",
    "\n",
    "fvg = FeatureVectorGenerator(images_src_path=\"resized_images/\", feature_vector_destination_path=\"feature_vectors/\", iterations=7)\n",
    "fvg.generate()"
   ]
  }
 ],
 "metadata": {
  "interpreter": {
   "hash": "40d3a090f54c6569ab1632332b64b2c03c39dcf918b08424e98f38b5ae0af88f"
  },
  "kernelspec": {
   "display_name": "Python 3.9.7 ('base')",
   "language": "python",
   "name": "python3"
  },
  "language_info": {
   "codemirror_mode": {
    "name": "ipython",
    "version": 3
   },
   "file_extension": ".py",
   "mimetype": "text/x-python",
   "name": "python",
   "nbconvert_exporter": "python",
   "pygments_lexer": "ipython3",
   "version": "3.9.7"
  },
  "orig_nbformat": 4
 },
 "nbformat": 4,
 "nbformat_minor": 2
}
