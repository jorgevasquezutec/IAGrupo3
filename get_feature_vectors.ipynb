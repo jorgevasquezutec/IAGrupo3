{
 "cells": [
  {
   "cell_type": "code",
   "execution_count": 7,
   "metadata": {},
   "outputs": [],
   "source": [
    "import numpy as np\n",
    "from PIL import Image\n",
    "import cv2\n",
    "import os\n",
    "import tensorflow as tf"
   ]
  },
  {
   "cell_type": "code",
   "execution_count": 12,
   "metadata": {},
   "outputs": [
    {
     "name": "stdout",
     "output_type": "stream",
     "text": [
      "<PIL.Image.Image image mode=RGB size=160x90 at 0x7FC41E7989A0>\n"
     ]
    },
    {
     "ename": "AttributeError",
     "evalue": "__array_interface__",
     "output_type": "error",
     "traceback": [
      "\u001b[0;31m---------------------------------------------------------------------------\u001b[0m",
      "\u001b[0;31mAttributeError\u001b[0m                            Traceback (most recent call last)",
      "\u001b[0;32m/var/folders/99/kd7_0wt1019gvgr156sphqg80000gn/T/ipykernel_50436/1373797536.py\u001b[0m in \u001b[0;36m<module>\u001b[0;34m\u001b[0m\n\u001b[1;32m     43\u001b[0m \u001b[0;34m\u001b[0m\u001b[0m\n\u001b[1;32m     44\u001b[0m \u001b[0mgenerator\u001b[0m \u001b[0;34m=\u001b[0m \u001b[0mFeatureVectorFilesGenerator\u001b[0m\u001b[0;34m(\u001b[0m\u001b[0mimages_src_path\u001b[0m\u001b[0;34m=\u001b[0m\u001b[0;34m\"images/\"\u001b[0m\u001b[0;34m,\u001b[0m \u001b[0mresized_images_destination_path\u001b[0m\u001b[0;34m=\u001b[0m\u001b[0;34m\"resized_images/\"\u001b[0m\u001b[0;34m)\u001b[0m\u001b[0;34m\u001b[0m\u001b[0;34m\u001b[0m\u001b[0m\n\u001b[0;32m---> 45\u001b[0;31m \u001b[0mgenerator\u001b[0m\u001b[0;34m.\u001b[0m\u001b[0mresize_and_save_new_images\u001b[0m\u001b[0;34m(\u001b[0m\u001b[0;34m)\u001b[0m\u001b[0;34m\u001b[0m\u001b[0;34m\u001b[0m\u001b[0m\n\u001b[0m",
      "\u001b[0;32m/var/folders/99/kd7_0wt1019gvgr156sphqg80000gn/T/ipykernel_50436/1373797536.py\u001b[0m in \u001b[0;36mresize_and_save_new_images\u001b[0;34m(self)\u001b[0m\n\u001b[1;32m     19\u001b[0m             \u001b[0mimage\u001b[0m \u001b[0;34m=\u001b[0m \u001b[0mimage\u001b[0m\u001b[0;34m.\u001b[0m\u001b[0mresize\u001b[0m\u001b[0;34m(\u001b[0m\u001b[0;34m(\u001b[0m\u001b[0;36m160\u001b[0m\u001b[0;34m,\u001b[0m \u001b[0;36m90\u001b[0m\u001b[0;34m)\u001b[0m\u001b[0;34m)\u001b[0m\u001b[0;34m\u001b[0m\u001b[0;34m\u001b[0m\u001b[0m\n\u001b[1;32m     20\u001b[0m             \u001b[0mprint\u001b[0m\u001b[0;34m(\u001b[0m\u001b[0mimage\u001b[0m\u001b[0;34m)\u001b[0m\u001b[0;34m\u001b[0m\u001b[0;34m\u001b[0m\u001b[0m\n\u001b[0;32m---> 21\u001b[0;31m             \u001b[0mImage\u001b[0m\u001b[0;34m.\u001b[0m\u001b[0mfromarray\u001b[0m\u001b[0;34m(\u001b[0m\u001b[0mimage\u001b[0m\u001b[0;34m)\u001b[0m\u001b[0;34m.\u001b[0m\u001b[0msave\u001b[0m\u001b[0;34m(\u001b[0m\u001b[0mself\u001b[0m\u001b[0;34m.\u001b[0m\u001b[0mresized_images_destination_path\u001b[0m \u001b[0;34m+\u001b[0m \u001b[0mimage_path\u001b[0m\u001b[0;34m)\u001b[0m\u001b[0;34m\u001b[0m\u001b[0;34m\u001b[0m\u001b[0m\n\u001b[0m\u001b[1;32m     22\u001b[0m \u001b[0;34m\u001b[0m\u001b[0m\n\u001b[1;32m     23\u001b[0m     \u001b[0;32mdef\u001b[0m \u001b[0mfill_and_save_new_images\u001b[0m\u001b[0;34m(\u001b[0m\u001b[0mself\u001b[0m\u001b[0;34m)\u001b[0m\u001b[0;34m:\u001b[0m\u001b[0;34m\u001b[0m\u001b[0;34m\u001b[0m\u001b[0m\n",
      "\u001b[0;32m/opt/anaconda3/lib/python3.9/site-packages/PIL/Image.py\u001b[0m in \u001b[0;36mfromarray\u001b[0;34m(obj, mode)\u001b[0m\n\u001b[1;32m   2823\u001b[0m     \u001b[0;34m.\u001b[0m\u001b[0;34m.\u001b[0m \u001b[0mversionadded\u001b[0m\u001b[0;34m:\u001b[0m\u001b[0;34m:\u001b[0m \u001b[0;36m1.1\u001b[0m\u001b[0;36m.6\u001b[0m\u001b[0;34m\u001b[0m\u001b[0;34m\u001b[0m\u001b[0m\n\u001b[1;32m   2824\u001b[0m     \"\"\"\n\u001b[0;32m-> 2825\u001b[0;31m     \u001b[0marr\u001b[0m \u001b[0;34m=\u001b[0m \u001b[0mobj\u001b[0m\u001b[0;34m.\u001b[0m\u001b[0m__array_interface__\u001b[0m\u001b[0;34m\u001b[0m\u001b[0;34m\u001b[0m\u001b[0m\n\u001b[0m\u001b[1;32m   2826\u001b[0m     \u001b[0mshape\u001b[0m \u001b[0;34m=\u001b[0m \u001b[0marr\u001b[0m\u001b[0;34m[\u001b[0m\u001b[0;34m\"shape\"\u001b[0m\u001b[0;34m]\u001b[0m\u001b[0;34m\u001b[0m\u001b[0;34m\u001b[0m\u001b[0m\n\u001b[1;32m   2827\u001b[0m     \u001b[0mndim\u001b[0m \u001b[0;34m=\u001b[0m \u001b[0mlen\u001b[0m\u001b[0;34m(\u001b[0m\u001b[0mshape\u001b[0m\u001b[0;34m)\u001b[0m\u001b[0;34m\u001b[0m\u001b[0;34m\u001b[0m\u001b[0m\n",
      "\u001b[0;32m/opt/anaconda3/lib/python3.9/site-packages/PIL/Image.py\u001b[0m in \u001b[0;36m__getattr__\u001b[0;34m(self, name)\u001b[0m\n\u001b[1;32m    544\u001b[0m             )\n\u001b[1;32m    545\u001b[0m             \u001b[0;32mreturn\u001b[0m \u001b[0mself\u001b[0m\u001b[0;34m.\u001b[0m\u001b[0m_category\u001b[0m\u001b[0;34m\u001b[0m\u001b[0;34m\u001b[0m\u001b[0m\n\u001b[0;32m--> 546\u001b[0;31m         \u001b[0;32mraise\u001b[0m \u001b[0mAttributeError\u001b[0m\u001b[0;34m(\u001b[0m\u001b[0mname\u001b[0m\u001b[0;34m)\u001b[0m\u001b[0;34m\u001b[0m\u001b[0;34m\u001b[0m\u001b[0m\n\u001b[0m\u001b[1;32m    547\u001b[0m \u001b[0;34m\u001b[0m\u001b[0m\n\u001b[1;32m    548\u001b[0m     \u001b[0;34m@\u001b[0m\u001b[0mproperty\u001b[0m\u001b[0;34m\u001b[0m\u001b[0;34m\u001b[0m\u001b[0m\n",
      "\u001b[0;31mAttributeError\u001b[0m: __array_interface__"
     ]
    }
   ],
   "source": [
    "class FeatureVectorFilesGenerator:\n",
    "    def __init__(self, images_src_path, resized_images_destination_path):\n",
    "        self.images_src_path = images_src_path\n",
    "        self.resized_images_destination_path = resized_images_destination_path\n",
    "        self.largest_height, self.largest_width = self.find_largest_width_and_height()\n",
    "\n",
    "    def find_largest_width_and_height(self):\n",
    "        largest_height = largest_width = 0\n",
    "        for image_path in os.listdir(self.images_src_path):\n",
    "            img = cv2.imread(self.images_src_path + image_path)\n",
    "            height, width, _ = img.shape\n",
    "            largest_height = max(largest_height, height)\n",
    "            largest_width = max(largest_width, width)\n",
    "        return largest_height, largest_width\n",
    "\n",
    "    def resize_and_save_new_images(self):\n",
    "        for image_path in os.listdir(self.images_src_path):\n",
    "            image = Image.open(self.images_src_path + image_path)\n",
    "            image.resize((160, 90)).save(self.resized_images_destination_path + image_path)\n",
    "    \n",
    "    def fill_and_save_new_images(self):\n",
    "        for image_path in os.listdir(self.images_src_path):\n",
    "            original_image = cv2.imread(self.images_src_path + image_path)\n",
    "            original_image_height, original_image_width, channels = original_image.shape\n",
    "            new_image_height = self.largest_height\n",
    "            new_image_width = self.largest_width\n",
    "            fill_color = (255, 255, 255)\n",
    "\n",
    "            resized_img = np.full((new_image_height, new_image_width, channels), fill_color, dtype=np.uint8)\n",
    "\n",
    "            y_center = (new_image_height - original_image_height) // 2\n",
    "            x_center = (new_image_width - original_image_width) // 2\n",
    "\n",
    "            resized_img[y_center : y_center + original_image_height, x_center : x_center + original_image_width] = original_image\n",
    "\n",
    "            folder = image_path[2]\n",
    "            if folder == \"0\":\n",
    "                folder = \"10\"\n",
    "            \n",
    "            Image.fromarray(resized_img).save(f\"{self.resized_images_destination_path}{folder}/{image_path}\")\n",
    "\n",
    "generator = FeatureVectorFilesGenerator(images_src_path=\"images/\", resized_images_destination_path=\"resized_images/\")\n",
    "generator.resize_and_save_new_images()"
   ]
  }
 ],
 "metadata": {
  "interpreter": {
   "hash": "40d3a090f54c6569ab1632332b64b2c03c39dcf918b08424e98f38b5ae0af88f"
  },
  "kernelspec": {
   "display_name": "Python 3.9.7 ('base')",
   "language": "python",
   "name": "python3"
  },
  "language_info": {
   "codemirror_mode": {
    "name": "ipython",
    "version": 3
   },
   "file_extension": ".py",
   "mimetype": "text/x-python",
   "name": "python",
   "nbconvert_exporter": "python",
   "pygments_lexer": "ipython3",
   "version": "3.9.7"
  },
  "orig_nbformat": 4
 },
 "nbformat": 4,
 "nbformat_minor": 2
}
